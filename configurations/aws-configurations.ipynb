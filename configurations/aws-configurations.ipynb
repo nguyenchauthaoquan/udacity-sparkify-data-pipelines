{
 "cells": [
  {
   "cell_type": "code",
   "execution_count": 1,
   "metadata": {
    "collapsed": true,
    "ExecuteTime": {
     "start_time": "2023-04-16T19:24:38.859547Z",
     "end_time": "2023-04-16T19:24:46.094951Z"
    }
   },
   "outputs": [],
   "source": [
    "import boto3\n",
    "from configparser import ConfigParser\n",
    "import base64\n",
    "import pandas as pd\n",
    "import json"
   ]
  },
  {
   "cell_type": "code",
   "execution_count": 11,
   "outputs": [
    {
     "data": {
      "text/plain": "['credentials.cfg', 'aws.cfg']"
     },
     "execution_count": 11,
     "metadata": {},
     "output_type": "execute_result"
    }
   ],
   "source": [
    "config_parser = ConfigParser()\n",
    "config_parser.read([\"credentials.cfg\", \"aws.cfg\"])"
   ],
   "metadata": {
    "collapsed": false,
    "ExecuteTime": {
     "start_time": "2023-04-16T20:22:50.318317Z",
     "end_time": "2023-04-16T20:22:50.454798Z"
    }
   }
  },
  {
   "cell_type": "code",
   "execution_count": 12,
   "outputs": [
    {
     "data": {
      "text/plain": "       Configurations                                             Values\n0          ACCESS KEY                       QUtJQVpDQVdOT1JHVEVUQ1VGRkw=\n1          SECRET KEY  bzVlRUhLcm95U0tJZFRWeXJ4aHRWMGQrZXhDeWZQRmlGSW...\n2          IAM REGION                                          us-east-1\n3   REDSHIFT IAM ROLE                                      redshift-role\n4       REDSHIFT USER                                              admin\n5   REDSHIFT PASSWORD                                           YWRtaW4=\n6  REDSHIFT NAMESPACE                                            default",
      "text/html": "<div>\n<style scoped>\n    .dataframe tbody tr th:only-of-type {\n        vertical-align: middle;\n    }\n\n    .dataframe tbody tr th {\n        vertical-align: top;\n    }\n\n    .dataframe thead th {\n        text-align: right;\n    }\n</style>\n<table border=\"1\" class=\"dataframe\">\n  <thead>\n    <tr style=\"text-align: right;\">\n      <th></th>\n      <th>Configurations</th>\n      <th>Values</th>\n    </tr>\n  </thead>\n  <tbody>\n    <tr>\n      <th>0</th>\n      <td>ACCESS KEY</td>\n      <td>QUtJQVpDQVdOT1JHVEVUQ1VGRkw=</td>\n    </tr>\n    <tr>\n      <th>1</th>\n      <td>SECRET KEY</td>\n      <td>bzVlRUhLcm95U0tJZFRWeXJ4aHRWMGQrZXhDeWZQRmlGSW...</td>\n    </tr>\n    <tr>\n      <th>2</th>\n      <td>IAM REGION</td>\n      <td>us-east-1</td>\n    </tr>\n    <tr>\n      <th>3</th>\n      <td>REDSHIFT IAM ROLE</td>\n      <td>redshift-role</td>\n    </tr>\n    <tr>\n      <th>4</th>\n      <td>REDSHIFT USER</td>\n      <td>admin</td>\n    </tr>\n    <tr>\n      <th>5</th>\n      <td>REDSHIFT PASSWORD</td>\n      <td>YWRtaW4=</td>\n    </tr>\n    <tr>\n      <th>6</th>\n      <td>REDSHIFT NAMESPACE</td>\n      <td>default</td>\n    </tr>\n  </tbody>\n</table>\n</div>"
     },
     "execution_count": 12,
     "metadata": {},
     "output_type": "execute_result"
    }
   ],
   "source": [
    "ACCESS_KEY =  config_parser.get(\"AWS_IAM_USER\", \"KEY\") # Iam user access key.\n",
    "SECRET_KEY = config_parser.get(\"AWS_IAM_USER\", \"SECRET\") # IAM user secret key\n",
    "IAM_USER_REGION = config_parser.get(\"AWS_IAM_USER\", \"REGION\")\n",
    "REDSHIFT_USER = config_parser.get(\"REDSHIFT_USER\", \"USER\")\n",
    "REDSHIFT_PASSWORD = config_parser.get(\"REDSHIFT_USER\", \"PASSWORD\")\n",
    "REDSHIFT_IAM_ROLE_NAME = config_parser.get(\"REDSHIFT_CLUSTER\", \"IAM_ROLE_NAME\")\n",
    "REDSHIFT_NAMESPACE_NAME = config_parser.get(\"REDSHIFT_CLUSTER\", \"NAMESPACE_NAME\")\n",
    "\n",
    "pd.DataFrame({\n",
    "    \"Configurations\": [\n",
    "        \"ACCESS KEY\", \"SECRET KEY\", \"IAM REGION\", \"REDSHIFT IAM ROLE\",\n",
    "        \"REDSHIFT USER\", \"REDSHIFT PASSWORD\", \"REDSHIFT NAMESPACE\"\n",
    "    ],\n",
    "    \"Values\": [\n",
    "        ACCESS_KEY, SECRET_KEY, IAM_USER_REGION, REDSHIFT_IAM_ROLE_NAME,\n",
    "        REDSHIFT_USER, REDSHIFT_PASSWORD, REDSHIFT_NAMESPACE_NAME\n",
    "    ]\n",
    "})"
   ],
   "metadata": {
    "collapsed": false,
    "ExecuteTime": {
     "start_time": "2023-04-16T20:22:51.542531Z",
     "end_time": "2023-04-16T20:22:51.879474Z"
    }
   }
  },
  {
   "cell_type": "code",
   "execution_count": 4,
   "outputs": [],
   "source": [
    "s3 = boto3.resource(\"s3\", region_name=IAM_USER_REGION,\n",
    "                    aws_access_key_id=base64.b64decode(ACCESS_KEY).decode('utf-8'),\n",
    "                    aws_secret_access_key=base64.b64decode(SECRET_KEY).decode('utf-8'))\n",
    "iam = boto3.client('iam', region_name=IAM_USER_REGION,\n",
    "                   aws_access_key_id=base64.b64decode(ACCESS_KEY).decode('utf-8'),\n",
    "                   aws_secret_access_key=base64.b64decode(SECRET_KEY).decode('utf-8'))\n",
    "ec2 = boto3.resource(\"ec2\", region_name=IAM_USER_REGION,\n",
    "                     aws_access_key_id=base64.b64decode(ACCESS_KEY).decode('utf-8'),\n",
    "                     aws_secret_access_key=base64.b64decode(SECRET_KEY).decode('utf-8'))\n",
    "redshift = boto3.client('redshift-serverless', region_name=IAM_USER_REGION,\n",
    "                        aws_access_key_id=base64.b64decode(ACCESS_KEY).decode('utf-8'),\n",
    "                        aws_secret_access_key=base64.b64decode(SECRET_KEY).decode('utf-8'))"
   ],
   "metadata": {
    "collapsed": false,
    "ExecuteTime": {
     "start_time": "2023-04-16T19:24:46.315241Z",
     "end_time": "2023-04-16T19:24:51.147914Z"
    }
   }
  },
  {
   "cell_type": "code",
   "execution_count": null,
   "outputs": [],
   "source": [
    "bucket=s3.Bucket('quannct-sparkify')\n",
    "song_data_files = [filename.key for filename in bucket.objects.filter(Prefix='song-data/A/')] # Load song data files\n",
    "\n",
    "print (\"Song data files: \")\n",
    "print(song_data_files)\n",
    "\n",
    "log_data_files = [filename.key for filename in bucket.objects.filter(Prefix='log-data')] # Load log data files\n",
    "\n",
    "print(log_data_files)"
   ],
   "metadata": {
    "collapsed": false,
    "ExecuteTime": {
     "start_time": "2023-04-16T00:40:28.349338Z",
     "end_time": "2023-04-16T00:40:41.157243Z"
    }
   }
  },
  {
   "cell_type": "code",
   "execution_count": 38,
   "outputs": [
    {
     "name": "stdout",
     "output_type": "stream",
     "text": [
      "{'Role': {'Path': '/', 'RoleName': 'redshift-role', 'RoleId': 'AROAZCAWNORGVJ7VDMU42', 'Arn': 'arn:aws:iam::622817277005:role/redshift-role', 'CreateDate': datetime.datetime(2023, 4, 15, 17, 40, 46, tzinfo=tzutc()), 'AssumeRolePolicyDocument': {'Statement': [{'Action': 'sts:AssumeRole', 'Effect': 'Allow', 'Principal': {'Service': 'redshift.amazonaws.com'}}], 'Version': '2012-10-17'}}, 'ResponseMetadata': {'RequestId': '70825cce-4e7f-4a67-b64d-ea0654d16172', 'HTTPStatusCode': 200, 'HTTPHeaders': {'x-amzn-requestid': '70825cce-4e7f-4a67-b64d-ea0654d16172', 'content-type': 'text/xml', 'content-length': '782', 'date': 'Sat, 15 Apr 2023 17:40:46 GMT'}, 'RetryAttempts': 0}}\n"
     ]
    }
   ],
   "source": [
    "try:\n",
    "    iam_role = iam.create_role(\n",
    "        Path=\"/\",\n",
    "        RoleName=REDSHIFT_IAM_ROLE_NAME,\n",
    "        Description = \"Allows Redshift clusters to call AWS services on your behalf.\",\n",
    "        AssumeRolePolicyDocument=json.dumps(\n",
    "            {'Statement': [{'Action': 'sts:AssumeRole',\n",
    "                            'Effect': 'Allow',\n",
    "                            'Principal': {'Service': 'redshift.amazonaws.com'}}],\n",
    "             'Version': '2012-10-17'}\n",
    "        )\n",
    "    )\n",
    "    print(iam_role)\n",
    "except Exception as exception:\n",
    "    print(exception)"
   ],
   "metadata": {
    "collapsed": false,
    "ExecuteTime": {
     "start_time": "2023-04-16T00:40:41.188382Z",
     "end_time": "2023-04-16T00:40:44.029442Z"
    }
   }
  },
  {
   "cell_type": "code",
   "execution_count": 5,
   "outputs": [
    {
     "name": "stdout",
     "output_type": "stream",
     "text": [
      "1.2 Attaching Policy\n"
     ]
    },
    {
     "data": {
      "text/plain": "200"
     },
     "execution_count": 5,
     "metadata": {},
     "output_type": "execute_result"
    }
   ],
   "source": [
    "print(\"1.2 Attaching Policy\")\n",
    "\n",
    "iam.attach_role_policy(RoleName=REDSHIFT_IAM_ROLE_NAME,\n",
    "                       PolicyArn=\"arn:aws:iam::aws:policy/AmazonS3FullAccess\"\n",
    "                       )['ResponseMetadata']['HTTPStatusCode']"
   ],
   "metadata": {
    "collapsed": false,
    "ExecuteTime": {
     "start_time": "2023-04-16T00:49:48.534301Z",
     "end_time": "2023-04-16T00:49:49.818902Z"
    }
   }
  },
  {
   "cell_type": "code",
   "execution_count": 5,
   "outputs": [
    {
     "name": "stdout",
     "output_type": "stream",
     "text": [
      "1.3 Get the IAM role ARN\n",
      "arn:aws:iam::622817277005:role/redshift-role\n"
     ]
    }
   ],
   "source": [
    "print(\"1.3 Get the IAM role ARN\")\n",
    "roleArn = iam.get_role(RoleName=REDSHIFT_IAM_ROLE_NAME)['Role']['Arn']\n",
    "\n",
    "print(roleArn)"
   ],
   "metadata": {
    "collapsed": false,
    "ExecuteTime": {
     "start_time": "2023-04-16T19:24:51.108503Z",
     "end_time": "2023-04-16T19:24:52.708309Z"
    }
   }
  },
  {
   "cell_type": "code",
   "execution_count": 10,
   "outputs": [
    {
     "name": "stdout",
     "output_type": "stream",
     "text": [
      "ec2.SecurityGroup(id='sg-041b5e77796aff823')\n",
      "[ec2.Subnet(id='subnet-00e0cb324cf25d907'), ec2.Subnet(id='subnet-0f7a7fa0a5bf2adb2'), ec2.Subnet(id='subnet-0fb5311d8e5dacdba'), ec2.Subnet(id='subnet-06dc4f89d43d295b8'), ec2.Subnet(id='subnet-043e3e78b54cc5458'), ec2.Subnet(id='subnet-02aa5315993b0e9b7')]\n",
      "ec2.Subnet(id='subnet-00e0cb324cf25d907')\n",
      "ec2.Subnet(id='subnet-0f7a7fa0a5bf2adb2')\n",
      "ec2.Subnet(id='subnet-0fb5311d8e5dacdba')\n",
      "ec2.Subnet(id='subnet-06dc4f89d43d295b8')\n",
      "ec2.Subnet(id='subnet-043e3e78b54cc5458')\n",
      "ec2.Subnet(id='subnet-02aa5315993b0e9b7')\n"
     ]
    }
   ],
   "source": [
    "vpc = ec2.Vpc(id=\"vpc-0e34785bb4ea2396b\")\n",
    "defaultSg = list(vpc.security_groups.all())[0]\n",
    "subnets = list(vpc.subnets.all())\n",
    "\n",
    "print (defaultSg)\n",
    "for subnet in subnets:\n",
    "    print(subnet)"
   ],
   "metadata": {
    "collapsed": false,
    "ExecuteTime": {
     "start_time": "2023-04-16T20:16:25.373036Z",
     "end_time": "2023-04-16T20:16:26.219439Z"
    }
   }
  },
  {
   "cell_type": "code",
   "execution_count": 16,
   "outputs": [
    {
     "name": "stdout",
     "output_type": "stream",
     "text": [
      "An error occurred (ValidationException) when calling the CreateNamespace operation: The IAM Role ARN: redshift-role is invalid.\n"
     ]
    }
   ],
   "source": [
    "try:\n",
    "    redshift_response = redshift.create_namespace(\n",
    "        adminUserPassword=base64.b64decode(REDSHIFT_PASSWORD).decode('utf-8'),\n",
    "        adminUsername=REDSHIFT_USER,\n",
    "        iamRoles=[\n",
    "            \"arn:aws:iam::622817277005:role/redshift-role\",\n",
    "        ],\n",
    "        namespaceName=REDSHIFT_NAMESPACE_NAME\n",
    "    )\n",
    "except Exception as e:\n",
    "    print(e)"
   ],
   "metadata": {
    "collapsed": false,
    "ExecuteTime": {
     "start_time": "2023-04-16T20:28:11.677614Z",
     "end_time": "2023-04-16T20:28:12.369835Z"
    }
   }
  },
  {
   "cell_type": "code",
   "execution_count": null,
   "outputs": [],
   "source": [],
   "metadata": {
    "collapsed": false
   }
  }
 ],
 "metadata": {
  "kernelspec": {
   "display_name": "Python 3",
   "language": "python",
   "name": "python3"
  },
  "language_info": {
   "codemirror_mode": {
    "name": "ipython",
    "version": 2
   },
   "file_extension": ".py",
   "mimetype": "text/x-python",
   "name": "python",
   "nbconvert_exporter": "python",
   "pygments_lexer": "ipython2",
   "version": "2.7.6"
  }
 },
 "nbformat": 4,
 "nbformat_minor": 0
}
